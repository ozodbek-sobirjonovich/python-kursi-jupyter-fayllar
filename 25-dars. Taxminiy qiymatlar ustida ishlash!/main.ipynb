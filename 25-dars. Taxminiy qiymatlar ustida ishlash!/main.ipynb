{
 "cells": [
  {
   "attachments": {},
   "cell_type": "markdown",
   "metadata": {},
   "source": [
    "## **Taxminiy qiymatlar ustida ishlash!**"
   ]
  },
  {
   "attachments": {},
   "cell_type": "markdown",
   "metadata": {},
   "source": [
    "**`random` kutubxonasi standart kutubxona hisoblanadi! `pip` yordamida o'rnatilmaydi!**"
   ]
  },
  {
   "cell_type": "code",
   "execution_count": 1,
   "metadata": {},
   "outputs": [],
   "source": [
    "import random"
   ]
  },
  {
   "attachments": {},
   "cell_type": "markdown",
   "metadata": {},
   "source": [
    "**`randint()` - taxminiy butun son chiqaradi!**"
   ]
  },
  {
   "cell_type": "code",
   "execution_count": 2,
   "metadata": {},
   "outputs": [
    {
     "data": {
      "text/plain": [
       "86"
      ]
     },
     "execution_count": 2,
     "metadata": {},
     "output_type": "execute_result"
    }
   ],
   "source": [
    "random.randint(0, 100)"
   ]
  },
  {
   "attachments": {},
   "cell_type": "markdown",
   "metadata": {},
   "source": [
    "**`random()` - 0 dan 1 gacha taxminiy qiymatni chiqarib beradi!**"
   ]
  },
  {
   "cell_type": "code",
   "execution_count": 4,
   "metadata": {},
   "outputs": [
    {
     "data": {
      "text/plain": [
       "0.5797988885626869"
      ]
     },
     "execution_count": 4,
     "metadata": {},
     "output_type": "execute_result"
    }
   ],
   "source": [
    "random.random()"
   ]
  },
  {
   "attachments": {},
   "cell_type": "markdown",
   "metadata": {},
   "source": [
    "**`round()` - yaxlitlovchi funksiya (build-in function)**"
   ]
  },
  {
   "cell_type": "code",
   "execution_count": 7,
   "metadata": {},
   "outputs": [
    {
     "data": {
      "text/plain": [
       "11"
      ]
     },
     "execution_count": 7,
     "metadata": {},
     "output_type": "execute_result"
    }
   ],
   "source": [
    "round(random.random() * 100)"
   ]
  },
  {
   "attachments": {},
   "cell_type": "markdown",
   "metadata": {},
   "source": [
    "**`choice()` - iterable (yurib chiqiluvchi to'plam) ichidan bitta qiymatni qaytaradi!**"
   ]
  },
  {
   "cell_type": "code",
   "execution_count": 9,
   "metadata": {},
   "outputs": [
    {
     "name": "stdout",
     "output_type": "stream",
     "text": [
      "7\n"
     ]
    }
   ],
   "source": [
    "sonlar = [1, 2, 3, 4, 5, 6, 7, 8, 9, 10]\n",
    "\n",
    "taxminiyson = random.choice(sonlar)\n",
    "print(taxminiyson)"
   ]
  },
  {
   "attachments": {},
   "cell_type": "markdown",
   "metadata": {},
   "source": [
    "**`shuffle()` - iterable (yurib chiqiluvchi to'plam) ni ichki elementlarini o'rnini almashtiradi!**"
   ]
  },
  {
   "cell_type": "code",
   "execution_count": 11,
   "metadata": {},
   "outputs": [
    {
     "name": "stdout",
     "output_type": "stream",
     "text": [
      "[1, 3, 9, 10, 5, 2, 8, 7, 6, 4]\n"
     ]
    }
   ],
   "source": [
    "sonlar = [1, 2, 3, 4, 5, 6, 7, 8, 9, 10]\n",
    "\n",
    "random.shuffle(sonlar)\n",
    "print(sonlar)"
   ]
  },
  {
   "attachments": {},
   "cell_type": "markdown",
   "metadata": {},
   "source": [
    "**`sample()` - berilgan iterable ni ichidan taxminiy `n` tasini chiqadi!**"
   ]
  },
  {
   "cell_type": "code",
   "execution_count": 13,
   "metadata": {},
   "outputs": [
    {
     "data": {
      "text/plain": [
       "[10, 7, 2, 1]"
      ]
     },
     "execution_count": 13,
     "metadata": {},
     "output_type": "execute_result"
    }
   ],
   "source": [
    "random.sample(sonlar, 4)"
   ]
  },
  {
   "cell_type": "code",
   "execution_count": 15,
   "metadata": {},
   "outputs": [
    {
     "data": {
      "text/plain": [
       "[92, 38, 98, 87, 79, 99, 58, 97, 69, 89]"
      ]
     },
     "execution_count": 15,
     "metadata": {},
     "output_type": "execute_result"
    }
   ],
   "source": [
    "random.sample(range(100), 10)"
   ]
  },
  {
   "cell_type": "code",
   "execution_count": 17,
   "metadata": {},
   "outputs": [
    {
     "data": {
      "text/plain": [
       "32.33974626466784"
      ]
     },
     "execution_count": 17,
     "metadata": {},
     "output_type": "execute_result"
    }
   ],
   "source": [
    "random.triangular(0, 100, 10)"
   ]
  },
  {
   "attachments": {},
   "cell_type": "markdown",
   "metadata": {},
   "source": [
    "**`uniform()` - Berilgan `n` dan `m` gacha bo'lgan sonlarning ichidan taxminiy (float) qiymatini qaytaradi!**"
   ]
  },
  {
   "cell_type": "code",
   "execution_count": 22,
   "metadata": {},
   "outputs": [
    {
     "data": {
      "text/plain": [
       "90.54302531685957"
      ]
     },
     "execution_count": 22,
     "metadata": {},
     "output_type": "execute_result"
    }
   ],
   "source": [
    "random.uniform(0, 100)"
   ]
  },
  {
   "attachments": {},
   "cell_type": "markdown",
   "metadata": {},
   "source": [
    "**`randbytes()` - Berilgan `n` qiymati miqdorida taxminiy bayt kod qaytaradi!**"
   ]
  },
  {
   "cell_type": "code",
   "execution_count": 29,
   "metadata": {},
   "outputs": [
    {
     "data": {
      "text/plain": [
       "b'\\x1f'"
      ]
     },
     "execution_count": 29,
     "metadata": {},
     "output_type": "execute_result"
    }
   ],
   "source": [
    "random.randbytes(1)"
   ]
  },
  {
   "cell_type": "code",
   "execution_count": 50,
   "metadata": {},
   "outputs": [
    {
     "name": "stdout",
     "output_type": "stream",
     "text": [
      "Random number with seed 88\n",
      "first Number  3\n",
      "second Number  3\n"
     ]
    }
   ],
   "source": [
    "print (\"Random number with seed 88\")\n",
    "random.seed(1)\n",
    "print (\"first Number \", random.randint(1,10))\n",
    "\n",
    "random.seed(1)\n",
    "print (\"second Number \", random.randint(1,10))"
   ]
  },
  {
   "attachments": {},
   "cell_type": "markdown",
   "metadata": {},
   "source": [
    "**`randrange()` - berilgan oraliq sonlardan bitta taxminiy son qaytaradi!**"
   ]
  },
  {
   "cell_type": "code",
   "execution_count": 61,
   "metadata": {},
   "outputs": [
    {
     "data": {
      "text/plain": [
       "498"
      ]
     },
     "execution_count": 61,
     "metadata": {},
     "output_type": "execute_result"
    }
   ],
   "source": [
    "random.randrange(0, 1000, 2)"
   ]
  },
  {
   "attachments": {},
   "cell_type": "markdown",
   "metadata": {},
   "source": [
    "## **Topshiriqlar**"
   ]
  },
  {
   "attachments": {},
   "cell_type": "markdown",
   "metadata": {},
   "source": [
    "**1. Password Generator yaratish! Berilgan tegishli shartlariga muvofiq:**\n",
    "\n",
    "INPUT\n",
    "\n",
    "- > Necha xonali bo'lsin?: `5`\n",
    "- > Katta harflar qatnashsinmi? (Y/N): `Y`\n",
    "- > Sonlar qatnashsinmi? (Y/N): `N`\n",
    "\n",
    "OUTPUT\n",
    "\n",
    "- > Natija: Gy%^k"
   ]
  },
  {
   "attachments": {},
   "cell_type": "markdown",
   "metadata": {},
   "source": [
    "**2. Telefon raqam generatori! Berilgan shartlarga muvofiq!**\n",
    "\n",
    "INPUT\n",
    "\n",
    "- > Qaysi kompaniyadan (Beeline, Ucell, MobiUZ, Perfectum, Humans, UzMobile): `Beeline`\n",
    "- > Qaysi raqamlar qatnashgan bo'lsin? Bir qismi: `1515`\n",
    "- > Nechta raqam generatsiya qilib bersin?: `3`\n",
    "\n",
    "OUTPUT\n",
    "\n",
    "- > Natija:\n",
    "- > 1) +998902121515\n",
    "- > 2) +998906461515\n",
    "- > 3) +998912511515"
   ]
  },
  {
   "attachments": {},
   "cell_type": "markdown",
   "metadata": {},
   "source": [
    "**3. Kompyuter o'ylagan sonni topish va biz o'ylagan sonni kompyuter topishi (List uslubida)**\n",
    "\n",
    "`Repository ichidagi dasturni yuklab olib, xuddi shunga o'xshash qilib tayyorlashingiz kerak!`"
   ]
  }
 ],
 "metadata": {
  "kernelspec": {
   "display_name": "Python 3",
   "language": "python",
   "name": "python3"
  },
  "language_info": {
   "codemirror_mode": {
    "name": "ipython",
    "version": 3
   },
   "file_extension": ".py",
   "mimetype": "text/x-python",
   "name": "python",
   "nbconvert_exporter": "python",
   "pygments_lexer": "ipython3",
   "version": "3.10.8"
  },
  "orig_nbformat": 4,
  "vscode": {
   "interpreter": {
    "hash": "369f2c481f4da34e4445cda3fffd2e751bd1c4d706f27375911949ba6bb62e1c"
   }
  }
 },
 "nbformat": 4,
 "nbformat_minor": 2
}
