{
 "cells": [
  {
   "attachments": {},
   "cell_type": "markdown",
   "metadata": {},
   "source": [
    "## **11-dars. Dict ma'lumot turi!**"
   ]
  },
  {
   "attachments": {},
   "cell_type": "markdown",
   "metadata": {},
   "source": [
    "### **Dict (lug'at) ma'lumot turiga misollar**"
   ]
  },
  {
   "cell_type": "code",
   "execution_count": 6,
   "metadata": {},
   "outputs": [],
   "source": [
    "users = {\n",
    "    \"Ozodbek\": {\n",
    "        \"firstname\": \"Ozodbek\",\n",
    "        \"lastname\": \"Yusupov\",\n",
    "        \"age\": 22,\n",
    "    },\n",
    "    \"Sardor1\": {\n",
    "        \"firstname\": \"Sardor\",\n",
    "        \"lastname\": \"Ubaydullayev\",\n",
    "        \"age\": 14,\n",
    "    },\n",
    "    \"Sardor2\": {\n",
    "        \"firstname\": \"Sardor\",\n",
    "        \"lastname\": \"Usmonqulov\",\n",
    "        \"age\": 14,\n",
    "    },\n",
    "}"
   ]
  },
  {
   "cell_type": "code",
   "execution_count": 7,
   "metadata": {},
   "outputs": [
    {
     "data": {
      "text/plain": [
       "{'Ozodbek': {'firstname': 'Ozodbek', 'lastname': 'Yusupov', 'age': 22},\n",
       " 'Sardor1': {'firstname': 'Sardor', 'lastname': 'Ubaydullayev', 'age': 14},\n",
       " 'Sardor2': {'firstname': 'Sardor', 'lastname': 'Usmonqulov', 'age': 14}}"
      ]
     },
     "execution_count": 7,
     "metadata": {},
     "output_type": "execute_result"
    }
   ],
   "source": [
    "users"
   ]
  },
  {
   "cell_type": "code",
   "execution_count": 8,
   "metadata": {},
   "outputs": [
    {
     "data": {
      "text/plain": [
       "{'firstname': 'Ozodbek', 'lastname': 'Yusupov', 'age': 22}"
      ]
     },
     "execution_count": 8,
     "metadata": {},
     "output_type": "execute_result"
    }
   ],
   "source": [
    "users[\"Ozodbek\"]"
   ]
  },
  {
   "cell_type": "code",
   "execution_count": 9,
   "metadata": {},
   "outputs": [
    {
     "data": {
      "text/plain": [
       "22"
      ]
     },
     "execution_count": 9,
     "metadata": {},
     "output_type": "execute_result"
    }
   ],
   "source": [
    "users[\"Ozodbek\"][\"age\"]"
   ]
  },
  {
   "cell_type": "code",
   "execution_count": 10,
   "metadata": {},
   "outputs": [
    {
     "data": {
      "text/plain": [
       "{'firstname': 'Sardor', 'lastname': 'Ubaydullayev', 'age': 14}"
      ]
     },
     "execution_count": 10,
     "metadata": {},
     "output_type": "execute_result"
    }
   ],
   "source": [
    "users[\"Sardor1\"]"
   ]
  },
  {
   "attachments": {},
   "cell_type": "markdown",
   "metadata": {},
   "source": [
    "### **Dict metodlari**"
   ]
  },
  {
   "cell_type": "code",
   "execution_count": 11,
   "metadata": {},
   "outputs": [],
   "source": [
    "users = {\n",
    "    \"Ozodbek\": {\n",
    "        \"firstname\": \"Ozodbek\",\n",
    "        \"lastname\": \"Yusupov\",\n",
    "        \"age\": 22,\n",
    "    },\n",
    "    \"Sardor1\": {\n",
    "        \"firstname\": \"Sardor\",\n",
    "        \"lastname\": \"Ubaydullayev\",\n",
    "        \"age\": 14,\n",
    "    },\n",
    "    \"Sardor2\": {\n",
    "        \"firstname\": \"Sardor\",\n",
    "        \"lastname\": \"Usmonqulov\",\n",
    "        \"age\": 14,\n",
    "    },\n",
    "}"
   ]
  },
  {
   "cell_type": "code",
   "execution_count": 12,
   "metadata": {},
   "outputs": [
    {
     "data": {
      "text/plain": [
       "dict_keys(['Ozodbek', 'Sardor1', 'Sardor2'])"
      ]
     },
     "execution_count": 12,
     "metadata": {},
     "output_type": "execute_result"
    }
   ],
   "source": [
    "users.keys() # kalitlari list ko'rinishida qaytaradi"
   ]
  },
  {
   "cell_type": "code",
   "execution_count": 13,
   "metadata": {},
   "outputs": [
    {
     "data": {
      "text/plain": [
       "dict_values([{'firstname': 'Ozodbek', 'lastname': 'Yusupov', 'age': 22}, {'firstname': 'Sardor', 'lastname': 'Ubaydullayev', 'age': 14}, {'firstname': 'Sardor', 'lastname': 'Usmonqulov', 'age': 14}])"
      ]
     },
     "execution_count": 13,
     "metadata": {},
     "output_type": "execute_result"
    }
   ],
   "source": [
    "users.values() # qiymatlari list ko'rinishida chiqadi"
   ]
  },
  {
   "cell_type": "code",
   "execution_count": 14,
   "metadata": {},
   "outputs": [
    {
     "data": {
      "text/plain": [
       "dict_items([('Ozodbek', {'firstname': 'Ozodbek', 'lastname': 'Yusupov', 'age': 22}), ('Sardor1', {'firstname': 'Sardor', 'lastname': 'Ubaydullayev', 'age': 14}), ('Sardor2', {'firstname': 'Sardor', 'lastname': 'Usmonqulov', 'age': 14})])"
      ]
     },
     "execution_count": 14,
     "metadata": {},
     "output_type": "execute_result"
    }
   ],
   "source": [
    "users.items() # kalit qiymatlari (tuple) turida qaytaradi"
   ]
  },
  {
   "cell_type": "code",
   "execution_count": 15,
   "metadata": {},
   "outputs": [
    {
     "name": "stdout",
     "output_type": "stream",
     "text": [
      "Ozodbek ==> {'firstname': 'Ozodbek', 'lastname': 'Yusupov', 'age': 22}\n",
      "Sardor1 ==> {'firstname': 'Sardor', 'lastname': 'Ubaydullayev', 'age': 14}\n",
      "Sardor2 ==> {'firstname': 'Sardor', 'lastname': 'Usmonqulov', 'age': 14}\n"
     ]
    }
   ],
   "source": [
    "for key, value in users.items(): # kalit-qiymatlari bo'yicha yurib chiqamiz\n",
    "    print(key, value, sep=\" ==> \")"
   ]
  },
  {
   "cell_type": "code",
   "execution_count": 17,
   "metadata": {},
   "outputs": [
    {
     "name": "stdout",
     "output_type": "stream",
     "text": [
      "{'Ozodbek': {'firstname': 'Ozodbek', 'lastname': 'Yusupov', 'age': 22}, 'Sardor1': {'firstname': 'Sardor', 'lastname': 'Ubaydullayev', 'age': 14}, 'Sardor2': {'firstname': 'Sardor', 'lastname': 'Usmonqulov', 'age': 14}}\n"
     ]
    }
   ],
   "source": [
    "users2 = users.copy() # nusxa olish\n",
    "print(users2)"
   ]
  },
  {
   "cell_type": "code",
   "execution_count": 20,
   "metadata": {},
   "outputs": [],
   "source": [
    "users.update({\"Ozodbek\": {\"firstname\": \"Ozodbek\", \"lastname\": \"Yusupov\", \"age\": 23}}) # qiymatni yangilash"
   ]
  },
  {
   "cell_type": "code",
   "execution_count": 21,
   "metadata": {},
   "outputs": [
    {
     "data": {
      "text/plain": [
       "{'Ozodbek': {'firstname': 'Ozodbek', 'lastname': 'Yusupov', 'age': 23},\n",
       " 'Sardor1': {'firstname': 'Sardor', 'lastname': 'Ubaydullayev', 'age': 14},\n",
       " 'Sardor2': {'firstname': 'Sardor', 'lastname': 'Usmonqulov', 'age': 14}}"
      ]
     },
     "execution_count": 21,
     "metadata": {},
     "output_type": "execute_result"
    }
   ],
   "source": [
    "users"
   ]
  },
  {
   "cell_type": "code",
   "execution_count": 22,
   "metadata": {},
   "outputs": [],
   "source": [
    "users[\"Sardor1\"][\"age\"] = 45 # qiymatni o'zgartirish"
   ]
  },
  {
   "cell_type": "code",
   "execution_count": 23,
   "metadata": {},
   "outputs": [
    {
     "data": {
      "text/plain": [
       "{'Ozodbek': {'firstname': 'Ozodbek', 'lastname': 'Yusupov', 'age': 23},\n",
       " 'Sardor1': {'firstname': 'Sardor', 'lastname': 'Ubaydullayev', 'age': 45},\n",
       " 'Sardor2': {'firstname': 'Sardor', 'lastname': 'Usmonqulov', 'age': 14}}"
      ]
     },
     "execution_count": 23,
     "metadata": {},
     "output_type": "execute_result"
    }
   ],
   "source": [
    "users"
   ]
  },
  {
   "cell_type": "code",
   "execution_count": null,
   "metadata": {},
   "outputs": [],
   "source": [
    "users.pop(\"Sardor1\") # o'chirib tashlaydi"
   ]
  },
  {
   "cell_type": "code",
   "execution_count": 25,
   "metadata": {},
   "outputs": [
    {
     "data": {
      "text/plain": [
       "{'Ozodbek': {'firstname': 'Ozodbek', 'lastname': 'Yusupov', 'age': 23},\n",
       " 'Sardor2': {'firstname': 'Sardor', 'lastname': 'Usmonqulov', 'age': 14}}"
      ]
     },
     "execution_count": 25,
     "metadata": {},
     "output_type": "execute_result"
    }
   ],
   "source": [
    "users"
   ]
  },
  {
   "cell_type": "code",
   "execution_count": 27,
   "metadata": {},
   "outputs": [
    {
     "data": {
      "text/plain": [
       "{'firstname': 'Ozodbek', 'lastname': 'Yusupov', 'age': 23}"
      ]
     },
     "execution_count": 27,
     "metadata": {},
     "output_type": "execute_result"
    }
   ],
   "source": [
    "users.get(\"Ozodbek\") # kalit bo'yicha qiymatni qaytaradi"
   ]
  },
  {
   "cell_type": "code",
   "execution_count": 28,
   "metadata": {},
   "outputs": [],
   "source": [
    "users.clear() # barchasini o'chirib tashlaydi"
   ]
  },
  {
   "cell_type": "code",
   "execution_count": 29,
   "metadata": {},
   "outputs": [
    {
     "data": {
      "text/plain": [
       "{}"
      ]
     },
     "execution_count": 29,
     "metadata": {},
     "output_type": "execute_result"
    }
   ],
   "source": [
    "users"
   ]
  },
  {
   "attachments": {},
   "cell_type": "markdown",
   "metadata": {},
   "source": [
    "### **Dict Comprehension**"
   ]
  },
  {
   "cell_type": "code",
   "execution_count": 30,
   "metadata": {},
   "outputs": [
    {
     "name": "stdout",
     "output_type": "stream",
     "text": [
      "{'Ozodbek': {'firstname': 'Ozodbek', 'lastname': 'Yusupov', 'age': 22}}\n"
     ]
    }
   ],
   "source": [
    "# Dict Comprehension\n",
    "\n",
    "users = {\n",
    "    \"Ozodbek\": {\n",
    "        \"firstname\": \"Ozodbek\",\n",
    "        \"lastname\": \"Yusupov\",\n",
    "        \"age\": 22,\n",
    "    },\n",
    "    \"Sardor1\": {\n",
    "        \"firstname\": \"Sardor\",\n",
    "        \"lastname\": \"Ubaydullayev\",\n",
    "        \"age\": 14,\n",
    "    },\n",
    "    \"Sardor2\": {\n",
    "        \"firstname\": \"Sardor\",\n",
    "        \"lastname\": \"Usmonqulov\",\n",
    "        \"age\": 14,\n",
    "    },\n",
    "}\n",
    "\n",
    "users2 = {key: value for key, value in users.items() if value[\"age\"] > 14}\n",
    "\n",
    "print(users2)"
   ]
  },
  {
   "attachments": {},
   "cell_type": "markdown",
   "metadata": {},
   "source": [
    "## **Topshiriqlar**"
   ]
  },
  {
   "attachments": {},
   "cell_type": "markdown",
   "metadata": {},
   "source": [
    "**1.Quyidagi Dictning ichidan `SALOM` so'zini ajratib olib, terminalga chiqarish!**"
   ]
  },
  {
   "cell_type": "code",
   "execution_count": null,
   "metadata": {},
   "outputs": [],
   "source": [
    "mydictionary = {\n",
    "    \"a\": {\n",
    "        \"b\": [\n",
    "            [(0, 1, 2, 3, (4, 5)), 6, {\n",
    "                \"c\": 7,\n",
    "                \"d\": 8,\n",
    "                \"e\": 9,\n",
    "                \"f\": {\n",
    "                    \"g\": 10,\n",
    "                    \"h\": [\n",
    "                        11,\n",
    "                        12,\n",
    "                        13,\n",
    "                        [{\n",
    "                            \"i\": 14,\n",
    "                            \"j\": 15,\n",
    "                            \"k\": [16, 17, 18, 19, {\n",
    "                                \"l\": 20,\n",
    "                                \"m\": 21,\n",
    "                                \"n\": 22,\n",
    "                                \"o\": 23,\n",
    "                                \"p\": {\n",
    "                                    \"q\": [\n",
    "                                        24,\n",
    "                                        \"SALOM\"\n",
    "                                    ]\n",
    "                                }\n",
    "                                }\n",
    "                            ]\n",
    "                        }]\n",
    "                    ]\n",
    "                }\n",
    "            }]\n",
    "        ]\n",
    "    }\n",
    "}"
   ]
  },
  {
   "attachments": {},
   "cell_type": "markdown",
   "metadata": {},
   "source": [
    "**2.10 ta foydalanuvchi ma'lumotlarini o'z ichiga olgan DICT hosil qiling va ularning ichidan email pochtalari faqat gmail.com bilan tugaganlarini aniqlab oling**"
   ]
  },
  {
   "cell_type": "code",
   "execution_count": 31,
   "metadata": {},
   "outputs": [],
   "source": [
    "# Misol uchun\n",
    "\n",
    "users = {\n",
    "    \"Ozodbek\": {\n",
    "        \"firstname\": \"Ozodbek\",\n",
    "        \"lastname\": \"Yusupov\",\n",
    "        \"age\": 22,\n",
    "        \"email\": \"ozodbeksobirjonovich@gmail.com\",\n",
    "        \"phone\": \"+998 99 999 99 99\",\n",
    "        \"address\": \"Navoiy shahar\",\n",
    "        \"password\": \"ozodbek123\",\n",
    "    },\n",
    "    # ...,\n",
    "    # ...,\n",
    "    # ...,\n",
    "}"
   ]
  },
  {
   "attachments": {},
   "cell_type": "markdown",
   "metadata": {},
   "source": [
    "**3. Dictning har bir metodiga 5 tadan misol keltiring!**"
   ]
  },
  {
   "cell_type": "code",
   "execution_count": null,
   "metadata": {},
   "outputs": [],
   "source": [
    "# Kodingizni bu yerga yozing"
   ]
  }
 ],
 "metadata": {
  "kernelspec": {
   "display_name": "Python 3",
   "language": "python",
   "name": "python3"
  },
  "language_info": {
   "codemirror_mode": {
    "name": "ipython",
    "version": 3
   },
   "file_extension": ".py",
   "mimetype": "text/x-python",
   "name": "python",
   "nbconvert_exporter": "python",
   "pygments_lexer": "ipython3",
   "version": "3.10.8"
  },
  "orig_nbformat": 4,
  "vscode": {
   "interpreter": {
    "hash": "369f2c481f4da34e4445cda3fffd2e751bd1c4d706f27375911949ba6bb62e1c"
   }
  }
 },
 "nbformat": 4,
 "nbformat_minor": 2
}
