{
 "cells": [
  {
   "attachments": {},
   "cell_type": "markdown",
   "metadata": {},
   "source": [
    "## **5-dars. Funksiyalar bilan ishlash! 1-qism!**"
   ]
  },
  {
   "attachments": {},
   "cell_type": "markdown",
   "metadata": {},
   "source": [
    "### **Funksiyalarni e'lon qilish!**\n",
    "\n",
    "- Funksiyalar - kodning alohida qismi bo'lib, unga nomlangan ism bilan murojaat qilish orqali chaqirilishi mumkin bo'lgan blok!"
   ]
  },
  {
   "cell_type": "code",
   "execution_count": 5,
   "metadata": {},
   "outputs": [
    {
     "name": "stdout",
     "output_type": "stream",
     "text": [
      "Salom\n"
     ]
    }
   ],
   "source": [
    "def salomBer():\n",
    "    print(\"Salom\")\n",
    "\n",
    "salomBer() # Funksiyani chaqirish"
   ]
  },
  {
   "attachments": {},
   "cell_type": "markdown",
   "metadata": {},
   "source": [
    "### **Argumentlar**"
   ]
  },
  {
   "cell_type": "code",
   "execution_count": 11,
   "metadata": {},
   "outputs": [
    {
     "name": "stdout",
     "output_type": "stream",
     "text": [
      "32\n"
     ]
    }
   ],
   "source": [
    "def daraja(son, uning_darajasi): # son va uning_darajasi - uning argumentlari\n",
    "    return son ** uning_darajasi\n",
    "\n",
    "print(daraja(2, 5)) # 2 va 3 - funksiyaga uzatilgan argument-qiymatlari"
   ]
  },
  {
   "attachments": {},
   "cell_type": "markdown",
   "metadata": {},
   "source": [
    "### **Odatiy (Default) qiymatlar!**"
   ]
  },
  {
   "cell_type": "code",
   "execution_count": 13,
   "metadata": {},
   "outputs": [],
   "source": [
    "def salomber(ism=\"Python!\"):\n",
    "    print(f\"Salom {ism}\")"
   ]
  },
  {
   "cell_type": "code",
   "execution_count": 14,
   "metadata": {},
   "outputs": [
    {
     "name": "stdout",
     "output_type": "stream",
     "text": [
      "Salom Python!\n"
     ]
    }
   ],
   "source": [
    "salomber()"
   ]
  },
  {
   "cell_type": "code",
   "execution_count": 15,
   "metadata": {},
   "outputs": [
    {
     "name": "stdout",
     "output_type": "stream",
     "text": [
      "Salom Shohjahon\n"
     ]
    }
   ],
   "source": [
    "salomber(\"Shohjahon\")"
   ]
  },
  {
   "attachments": {},
   "cell_type": "markdown",
   "metadata": {},
   "source": [
    "### **Argumentlar soni**"
   ]
  },
  {
   "cell_type": "code",
   "execution_count": 26,
   "metadata": {},
   "outputs": [],
   "source": [
    "def summa(telegram, instagram, youtube):\n",
    "    return telegram + instagram + youtube"
   ]
  },
  {
   "cell_type": "code",
   "execution_count": 28,
   "metadata": {},
   "outputs": [
    {
     "ename": "TypeError",
     "evalue": "summa() missing 1 required positional argument: 'youtube'",
     "output_type": "error",
     "traceback": [
      "\u001b[1;31m---------------------------------------------------------------------------\u001b[0m",
      "\u001b[1;31mTypeError\u001b[0m                                 Traceback (most recent call last)",
      "Cell \u001b[1;32mIn[28], line 1\u001b[0m\n\u001b[1;32m----> 1\u001b[0m \u001b[39mprint\u001b[39m(summa(\u001b[39m1\u001b[39;49m, \u001b[39m2\u001b[39;49m))\n",
      "\u001b[1;31mTypeError\u001b[0m: summa() missing 1 required positional argument: 'youtube'"
     ]
    }
   ],
   "source": [
    "print(summa(1, 2))"
   ]
  },
  {
   "cell_type": "code",
   "execution_count": 29,
   "metadata": {},
   "outputs": [
    {
     "name": "stdout",
     "output_type": "stream",
     "text": [
      "6\n"
     ]
    }
   ],
   "source": [
    "print(summa(1, 2, 3))"
   ]
  },
  {
   "cell_type": "code",
   "execution_count": 30,
   "metadata": {},
   "outputs": [
    {
     "ename": "TypeError",
     "evalue": "summa() takes 3 positional arguments but 4 were given",
     "output_type": "error",
     "traceback": [
      "\u001b[1;31m---------------------------------------------------------------------------\u001b[0m",
      "\u001b[1;31mTypeError\u001b[0m                                 Traceback (most recent call last)",
      "Cell \u001b[1;32mIn[30], line 1\u001b[0m\n\u001b[1;32m----> 1\u001b[0m \u001b[39mprint\u001b[39m(summa(\u001b[39m1\u001b[39;49m, \u001b[39m2\u001b[39;49m, \u001b[39m3\u001b[39;49m, \u001b[39m15\u001b[39;49m))\n",
      "\u001b[1;31mTypeError\u001b[0m: summa() takes 3 positional arguments but 4 were given"
     ]
    }
   ],
   "source": [
    "print(summa(1, 2, 3, 15))"
   ]
  },
  {
   "attachments": {},
   "cell_type": "markdown",
   "metadata": {},
   "source": [
    "### **`*args`**"
   ]
  },
  {
   "cell_type": "code",
   "execution_count": 34,
   "metadata": {},
   "outputs": [
    {
     "name": "stdout",
     "output_type": "stream",
     "text": [
      "24802681567\n"
     ]
    }
   ],
   "source": [
    "def sum_all_numbers(*shohjahon):\n",
    "\n",
    "    result = 0\n",
    "\n",
    "    # Ichidan yurib chiqamiz!\n",
    "    for number in shohjahon:\n",
    "        result += number\n",
    "\n",
    "    return result\n",
    "\n",
    "# Funksiyani chaqirish\n",
    "print(sum_all_numbers(1, 2, 5, 23563467346, 1234123123, 856856, 4234234))\n"
   ]
  },
  {
   "cell_type": "code",
   "execution_count": 37,
   "metadata": {},
   "outputs": [
    {
     "name": "stdout",
     "output_type": "stream",
     "text": [
      "1: | John |\n",
      "2: | Bill |\n",
      "3: | Elon |\n",
      "4: | Musk |\n",
      "5: | Shohjahon |\n"
     ]
    }
   ],
   "source": [
    "def users_list(*users):\n",
    "\n",
    "    count = 1\n",
    "\n",
    "    for user in users:\n",
    "        print(f\"{count}: | {user} |\")\n",
    "        count += 1\n",
    "\n",
    "# Funksiyani chaqirish\n",
    "users_list(\"John\", \"Bill\", \"Elon\", \"Musk\", \"Shohjahon\")"
   ]
  },
  {
   "attachments": {},
   "cell_type": "markdown",
   "metadata": {},
   "source": [
    "### **`**kwargs`**"
   ]
  },
  {
   "cell_type": "code",
   "execution_count": 39,
   "metadata": {},
   "outputs": [
    {
     "name": "stdout",
     "output_type": "stream",
     "text": [
      "car1 -> BMW\n",
      "car2 -> Mercedes\n",
      "car3 -> Audi\n",
      "car4 -> Lamborghini\n"
     ]
    }
   ],
   "source": [
    "def cars(**car_info):\n",
    "\n",
    "    for a, b in car_info.items():\n",
    "        print(f\"{a} -> {b}\")\n",
    "\n",
    "# Funksiyani chaqirish\n",
    "cars(car1=\"BMW\", car2=\"Mercedes\", car3=\"Audi\", car4=\"Lamborghini\")"
   ]
  },
  {
   "attachments": {},
   "cell_type": "markdown",
   "metadata": {},
   "source": [
    "### **Topshiriqlar**"
   ]
  },
  {
   "attachments": {},
   "cell_type": "markdown",
   "metadata": {},
   "source": [
    "**1. Unli va undosh harflar va simvollarni sonini aniqlovchi funksiya tuzing!**\n",
    "\n",
    "```python\n",
    "def unli_undosh_simvol_aniqla(text):\n",
    "    # Kodingiz shu yerda yoziladi!\n",
    "\n",
    "unli_undosh_simvol_aniqla(\"Salom$$123\")\n",
    "```\n",
    "- > Natija: Unlilar soni: 2ta\n",
    "- > Natija: Undoshlar soni: 3ta\n",
    "- > Natija: Simvollar soni: 2ta"
   ]
  },
  {
   "attachments": {},
   "cell_type": "markdown",
   "metadata": {},
   "source": [
    "**2. `Raqamlarni ajratib chiqarib ber!` funksiyasini yaratish!**\n",
    "\n",
    "```python\n",
    "def faqatsonlar(text):\n",
    "    .....\n",
    "\n",
    "# Funksiyani ishlatish!\n",
    "faqatsonlar(\"2001 yil 4-aprel\")\n",
    "faqatsonlar(\"1001uz1001\")\n",
    "```\n",
    "\n",
    "- > Natija: 20014\n",
    "- > Natija: 10011001"
   ]
  },
  {
   "attachments": {},
   "cell_type": "markdown",
   "metadata": {},
   "source": [
    "**3. `Gapni teskarisiga aylantirish! Faqat quyidagi shart asosida!`**\n",
    "\n",
    "```python\n",
    "def teskari(txt):\n",
    "    ......\n",
    "\n",
    "# Funksiyani ishlatish!\n",
    "teskari(\"Python popular language\")\n",
    "teskari(\"Men Sensorikaga o'qishga keldim!\")\n",
    "```\n",
    "\n",
    "- > Natija: nohtyP popular egaugnal\n",
    "- > Natija: neM Sensorikaga aghsiq'o keldim!"
   ]
  }
 ],
 "metadata": {
  "kernelspec": {
   "display_name": "Python 3",
   "language": "python",
   "name": "python3"
  },
  "language_info": {
   "codemirror_mode": {
    "name": "ipython",
    "version": 3
   },
   "file_extension": ".py",
   "mimetype": "text/x-python",
   "name": "python",
   "nbconvert_exporter": "python",
   "pygments_lexer": "ipython3",
   "version": "3.10.8"
  },
  "orig_nbformat": 4,
  "vscode": {
   "interpreter": {
    "hash": "369f2c481f4da34e4445cda3fffd2e751bd1c4d706f27375911949ba6bb62e1c"
   }
  }
 },
 "nbformat": 4,
 "nbformat_minor": 2
}
